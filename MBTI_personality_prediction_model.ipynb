{
  "cells": [
    {
      "cell_type": "markdown",
      "metadata": {
        "id": "3N0lERktdYAW"
      },
      "source": [
        "**<h2> MBTI Personality Prediction using Machine Learning : CSL2050 </h2>**\n",
        "<hr>\n",
        "\n",
        "By :<br>\n",
        "Vedant A. Sontake<br> \n",
        "Electrical Engineering, B.Tech.<br> \n",
        "Indian Institute of Technology Jodhpur\n",
        "\n"
      ]
    },
    {
      "cell_type": "code",
      "execution_count": 1,
      "metadata": {
        "colab": {
          "base_uri": "https://localhost:8080/"
        },
        "id": "cJg1bky2tjVX",
        "outputId": "e795f0f9-39cd-47c6-bd2d-50aed89ea166"
      },
      "outputs": [
        {
          "name": "stdout",
          "output_type": "stream",
          "text": [
            "Mounted at /content/drive\n"
          ]
        }
      ],
      "source": [
        "from google.colab import drive\n",
        "drive.mount('/content/drive')"
      ]
    },
    {
      "cell_type": "code",
      "execution_count": 2,
      "metadata": {
        "id": "tYKmm7KRfjBk"
      },
      "outputs": [],
      "source": [
        "import pandas as pd\n",
        "import numpy as np\n",
        "import nltk\n",
        "import re\n",
        "import seaborn as sns\n",
        "import matplotlib.pyplot as plt\n",
        "from sklearn.metrics import roc_curve\n",
        "from sklearn.metrics import roc_auc_score\n",
        "from sklearn.feature_extraction.text import TfidfVectorizer\n",
        "from sklearn.feature_extraction.text import CountVectorizer,TfidfTransformer\n",
        "from sklearn.metrics import accuracy_score\n",
        "from sklearn.model_selection import GridSearchCV"
      ]
    },
    {
      "cell_type": "code",
      "execution_count": 75,
      "metadata": {
        "id": "5ehk5iqaf0d9"
      },
      "outputs": [],
      "source": [
        "mbti_df=pd.read_csv('/content/drive/MyDrive/PRML_Bonus_Project/mbti_1.csv')"
      ]
    },
    {
      "cell_type": "code",
      "execution_count": 4,
      "metadata": {
        "colab": {
          "base_uri": "https://localhost:8080/",
          "height": 206
        },
        "id": "bxzXIpJfgUS5",
        "outputId": "72ce5612-2e11-4ee1-99a8-711036b6ab32"
      },
      "outputs": [
        {
          "data": {
            "text/html": [
              "\n",
              "  <div id=\"df-4032e8ce-b8b7-4af2-9096-2a0267ac7c78\">\n",
              "    <div class=\"colab-df-container\">\n",
              "      <div>\n",
              "<style scoped>\n",
              "    .dataframe tbody tr th:only-of-type {\n",
              "        vertical-align: middle;\n",
              "    }\n",
              "\n",
              "    .dataframe tbody tr th {\n",
              "        vertical-align: top;\n",
              "    }\n",
              "\n",
              "    .dataframe thead th {\n",
              "        text-align: right;\n",
              "    }\n",
              "</style>\n",
              "<table border=\"1\" class=\"dataframe\">\n",
              "  <thead>\n",
              "    <tr style=\"text-align: right;\">\n",
              "      <th></th>\n",
              "      <th>type</th>\n",
              "      <th>posts</th>\n",
              "    </tr>\n",
              "  </thead>\n",
              "  <tbody>\n",
              "    <tr>\n",
              "      <th>0</th>\n",
              "      <td>INFJ</td>\n",
              "      <td>'http://www.youtube.com/watch?v=qsXHcwe3krw|||...</td>\n",
              "    </tr>\n",
              "    <tr>\n",
              "      <th>1</th>\n",
              "      <td>ENTP</td>\n",
              "      <td>'I'm finding the lack of me in these posts ver...</td>\n",
              "    </tr>\n",
              "    <tr>\n",
              "      <th>2</th>\n",
              "      <td>INTP</td>\n",
              "      <td>'Good one  _____   https://www.youtube.com/wat...</td>\n",
              "    </tr>\n",
              "    <tr>\n",
              "      <th>3</th>\n",
              "      <td>INTJ</td>\n",
              "      <td>'Dear INTP,   I enjoyed our conversation the o...</td>\n",
              "    </tr>\n",
              "    <tr>\n",
              "      <th>4</th>\n",
              "      <td>ENTJ</td>\n",
              "      <td>'You're fired.|||That's another silly misconce...</td>\n",
              "    </tr>\n",
              "  </tbody>\n",
              "</table>\n",
              "</div>\n",
              "      <button class=\"colab-df-convert\" onclick=\"convertToInteractive('df-4032e8ce-b8b7-4af2-9096-2a0267ac7c78')\"\n",
              "              title=\"Convert this dataframe to an interactive table.\"\n",
              "              style=\"display:none;\">\n",
              "        \n",
              "  <svg xmlns=\"http://www.w3.org/2000/svg\" height=\"24px\"viewBox=\"0 0 24 24\"\n",
              "       width=\"24px\">\n",
              "    <path d=\"M0 0h24v24H0V0z\" fill=\"none\"/>\n",
              "    <path d=\"M18.56 5.44l.94 2.06.94-2.06 2.06-.94-2.06-.94-.94-2.06-.94 2.06-2.06.94zm-11 1L8.5 8.5l.94-2.06 2.06-.94-2.06-.94L8.5 2.5l-.94 2.06-2.06.94zm10 10l.94 2.06.94-2.06 2.06-.94-2.06-.94-.94-2.06-.94 2.06-2.06.94z\"/><path d=\"M17.41 7.96l-1.37-1.37c-.4-.4-.92-.59-1.43-.59-.52 0-1.04.2-1.43.59L10.3 9.45l-7.72 7.72c-.78.78-.78 2.05 0 2.83L4 21.41c.39.39.9.59 1.41.59.51 0 1.02-.2 1.41-.59l7.78-7.78 2.81-2.81c.8-.78.8-2.07 0-2.86zM5.41 20L4 18.59l7.72-7.72 1.47 1.35L5.41 20z\"/>\n",
              "  </svg>\n",
              "      </button>\n",
              "      \n",
              "  <style>\n",
              "    .colab-df-container {\n",
              "      display:flex;\n",
              "      flex-wrap:wrap;\n",
              "      gap: 12px;\n",
              "    }\n",
              "\n",
              "    .colab-df-convert {\n",
              "      background-color: #E8F0FE;\n",
              "      border: none;\n",
              "      border-radius: 50%;\n",
              "      cursor: pointer;\n",
              "      display: none;\n",
              "      fill: #1967D2;\n",
              "      height: 32px;\n",
              "      padding: 0 0 0 0;\n",
              "      width: 32px;\n",
              "    }\n",
              "\n",
              "    .colab-df-convert:hover {\n",
              "      background-color: #E2EBFA;\n",
              "      box-shadow: 0px 1px 2px rgba(60, 64, 67, 0.3), 0px 1px 3px 1px rgba(60, 64, 67, 0.15);\n",
              "      fill: #174EA6;\n",
              "    }\n",
              "\n",
              "    [theme=dark] .colab-df-convert {\n",
              "      background-color: #3B4455;\n",
              "      fill: #D2E3FC;\n",
              "    }\n",
              "\n",
              "    [theme=dark] .colab-df-convert:hover {\n",
              "      background-color: #434B5C;\n",
              "      box-shadow: 0px 1px 3px 1px rgba(0, 0, 0, 0.15);\n",
              "      filter: drop-shadow(0px 1px 2px rgba(0, 0, 0, 0.3));\n",
              "      fill: #FFFFFF;\n",
              "    }\n",
              "  </style>\n",
              "\n",
              "      <script>\n",
              "        const buttonEl =\n",
              "          document.querySelector('#df-4032e8ce-b8b7-4af2-9096-2a0267ac7c78 button.colab-df-convert');\n",
              "        buttonEl.style.display =\n",
              "          google.colab.kernel.accessAllowed ? 'block' : 'none';\n",
              "\n",
              "        async function convertToInteractive(key) {\n",
              "          const element = document.querySelector('#df-4032e8ce-b8b7-4af2-9096-2a0267ac7c78');\n",
              "          const dataTable =\n",
              "            await google.colab.kernel.invokeFunction('convertToInteractive',\n",
              "                                                     [key], {});\n",
              "          if (!dataTable) return;\n",
              "\n",
              "          const docLinkHtml = 'Like what you see? Visit the ' +\n",
              "            '<a target=\"_blank\" href=https://colab.research.google.com/notebooks/data_table.ipynb>data table notebook</a>'\n",
              "            + ' to learn more about interactive tables.';\n",
              "          element.innerHTML = '';\n",
              "          dataTable['output_type'] = 'display_data';\n",
              "          await google.colab.output.renderOutput(dataTable, element);\n",
              "          const docLink = document.createElement('div');\n",
              "          docLink.innerHTML = docLinkHtml;\n",
              "          element.appendChild(docLink);\n",
              "        }\n",
              "      </script>\n",
              "    </div>\n",
              "  </div>\n",
              "  "
            ],
            "text/plain": [
              "   type                                              posts\n",
              "0  INFJ  'http://www.youtube.com/watch?v=qsXHcwe3krw|||...\n",
              "1  ENTP  'I'm finding the lack of me in these posts ver...\n",
              "2  INTP  'Good one  _____   https://www.youtube.com/wat...\n",
              "3  INTJ  'Dear INTP,   I enjoyed our conversation the o...\n",
              "4  ENTJ  'You're fired.|||That's another silly misconce..."
            ]
          },
          "execution_count": 4,
          "metadata": {},
          "output_type": "execute_result"
        }
      ],
      "source": [
        "mbti_df.head()"
      ]
    },
    {
      "cell_type": "code",
      "execution_count": 5,
      "metadata": {
        "colab": {
          "base_uri": "https://localhost:8080/",
          "height": 122
        },
        "id": "Z8X_Qy3JVAbR",
        "outputId": "308c3a96-4eb8-4a82-ad10-70a6af29c5cc"
      },
      "outputs": [
        {
          "data": {
            "application/vnd.google.colaboratory.intrinsic+json": {
              "type": "string"
            },
            "text/plain": [
              "\"'http://www.youtube.com/watch?v=qsXHcwe3krw|||http://41.media.tumblr.com/tumblr_lfouy03PMA1qa1rooo1_500.jpg|||enfp and intj moments  https://www.youtube.com/watch?v=iz7lE1g4XM4  sportscenter not top ten plays  https://www.youtube.com/watch?v=uCdfze1etec  pranks|||What has been the most life-changing experience in your life?|||http://www.youtube.com/watch?v=vXZeYwwRDw8   http://www.youtube.com/watch?v=u8ejam5DP3E  On repeat for most of today.|||May the PerC Experience immerse you.|||The last thing my INFJ friend posted on his facebook before committing suicide the next day. Rest in peace~   http://vimeo.com/22842206|||Hello ENFJ7. Sorry to hear of your distress. It's only natural for a relationship to not be perfection all the time in every moment of existence. Try to figure the hard times as times of growth, as...|||84389  84390  http://wallpaperpassion.com/upload/23700/friendship-boy-and-girl-wallpaper.jpg  http://assets.dornob.com/wp-content/uploads/2010/04/round-home-design.jpg ...|||Welcome and stuff.|||http://playeressence.com/wp-content/uploads/2013/08/RED-red-the-pokemon-master-32560474-450-338.jpg  Game. Set. Match.|||Prozac, wellbrutin, at least thirty minutes of moving your legs (and I don't mean moving them while sitting in your same desk chair), weed in moderation (maybe try edibles as a healthier alternative...|||Basically come up with three items you've determined that each type (or whichever types you want to do) would more than likely use, given each types' cognitive functions and whatnot, when left by...|||All things in moderation.  Sims is indeed a video game, and a good one at that. Note: a good one at that is somewhat subjective in that I am not completely promoting the death of any given Sim...|||Dear ENFP:  What were your favorite video games growing up and what are your now, current favorite video games? :cool:|||https://www.youtube.com/watch?v=QyPqT8umzmY|||It appears to be too late. :sad:|||There's someone out there for everyone.|||Wait... I thought confidence was a good thing.|||I just cherish the time of solitude b/c i revel within my inner world more whereas most other time i'd be workin... just enjoy the me time while you can. Don't worry, people will always be around to...|||Yo entp ladies... if you're into a complimentary personality,well, hey.|||... when your main social outlet is xbox live conversations and even then you verbally fatigue quickly.|||http://www.youtube.com/watch?v=gDhy7rdfm14  I really dig the part from 1:46 to 2:50|||http://www.youtube.com/watch?v=msqXffgh7b8|||Banned because this thread requires it of me.|||Get high in backyard, roast and eat marshmellows in backyard while conversing over something intellectual, followed by massages and kisses.|||http://www.youtube.com/watch?v=Mw7eoU3BMbE|||http://www.youtube.com/watch?v=4V2uYORhQOk|||http://www.youtube.com/watch?v=SlVmgFQQ0TI|||Banned for too many b's in that sentence. How could you! Think of the B!|||Banned for watching movies in the corner with the dunces.|||Banned because Health class clearly taught you nothing about peer pressure.|||Banned for a whole host of reasons!|||http://www.youtube.com/watch?v=IRcrv41hgz4|||1) Two baby deer on left and right munching on a beetle in the middle.  2) Using their own blood, two cavemen diary today's latest happenings on their designated cave diary wall.  3) I see it as...|||a pokemon world  an infj society  everyone becomes an optimist|||49142|||http://www.youtube.com/watch?v=ZRCEq_JFeFM|||http://discovermagazine.com/2012/jul-aug/20-things-you-didnt-know-about-deserts/desert.jpg|||http://oyster.ignimgs.com/mediawiki/apis.ign.com/pokemon-silver-version/d/dd/Ditto.gif|||http://www.serebii.net/potw-dp/Scizor.jpg|||Not all artists are artists because they draw. It's the idea that counts in forming something of your own... like a signature.|||Welcome to the robot ranks, person who downed my self-esteem cuz I'm not an avid signature artist like herself. :proud:|||Banned for taking all the room under my bed. Ya gotta learn to share with the roaches.|||http://www.youtube.com/watch?v=w8IgImn57aQ|||Banned for being too much of a thundering, grumbling kind of storm... yep.|||Ahh... old high school music I haven't heard in ages.   http://www.youtube.com/watch?v=dcCRUPCdB1w|||I failed a public speaking class a few years ago and I've sort of learned what I could do better were I to be in that position again. A big part of my failure was just overloading myself with too...|||I like this person's mentality. He's a confirmed INTJ by the way. http://www.youtube.com/watch?v=hGKLI-GEc6M|||Move to the Denver area and start a new life for myself.'\""
            ]
          },
          "execution_count": 5,
          "metadata": {},
          "output_type": "execute_result"
        }
      ],
      "source": [
        "mbti_df.posts[0]"
      ]
    },
    {
      "cell_type": "code",
      "execution_count": 6,
      "metadata": {
        "colab": {
          "base_uri": "https://localhost:8080/"
        },
        "id": "Zt_dW_a2gh8X",
        "outputId": "5661a054-c4ce-48b5-a722-1e31e9a61c64"
      },
      "outputs": [
        {
          "name": "stdout",
          "output_type": "stream",
          "text": [
            "<class 'pandas.core.frame.DataFrame'>\n",
            "RangeIndex: 8675 entries, 0 to 8674\n",
            "Data columns (total 2 columns):\n",
            " #   Column  Non-Null Count  Dtype \n",
            "---  ------  --------------  ----- \n",
            " 0   type    8675 non-null   object\n",
            " 1   posts   8675 non-null   object\n",
            "dtypes: object(2)\n",
            "memory usage: 135.7+ KB\n"
          ]
        }
      ],
      "source": [
        "mbti_df.info()"
      ]
    },
    {
      "cell_type": "markdown",
      "metadata": {
        "id": "_v4Sdpu6C7oS"
      },
      "source": [
        "##Data Visualization"
      ]
    },
    {
      "cell_type": "code",
      "execution_count": 7,
      "metadata": {
        "colab": {
          "base_uri": "https://localhost:8080/",
          "height": 311
        },
        "id": "Gg8KQ7D9BLq4",
        "outputId": "5b927ba5-f688-412e-b96c-d93001c78268"
      },
      "outputs": [
        {
          "data": {
            "image/png": "[encoded data removed]",
            "text/plain": [
              "<Figure size 432x288 with 1 Axes>"
            ]
          },
          "metadata": {
            "needs_background": "light"
          },
          "output_type": "display_data"
        }
      ],
      "source": [
        "pd.DataFrame(mbti_df.type.value_counts()).plot.bar()\n",
        "plt.ylabel('Frequency')\n",
        "plt.xlabel('Types of Categories')\n",
        "plt.title('Bar graph showing frequency of different types of personalities')\n",
        "plt.show()"
      ]
    },
    {
      "cell_type": "code",
      "execution_count": 8,
      "metadata": {
        "colab": {
          "base_uri": "https://localhost:8080/",
          "height": 699
        },
        "id": "O-83eETeCuWp",
        "outputId": "f8f80bca-cd09-404e-d0bc-d25d9fb1ca99"
      },
      "outputs": [
        {
          "data": {
            "image/png": "[encoded data removed]",
            "text/plain": [
              "<Figure size 864x864 with 1 Axes>"
            ]
          },
          "metadata": {},
          "output_type": "display_data"
        }
      ],
      "source": [
        "mbti_df.type.value_counts().plot(kind='pie',figsize=(12,12), autopct='%1.1f%%', explode=[0.1,0,0,0,0,0,0,0,0,0,0,0,0,0,0,0])\n",
        "plt.title('Pie plot showing different types of personalities')\n",
        "plt.show()"
      ]
    },
    {
      "cell_type": "code",
      "execution_count": null,
      "metadata": {
        "colab": {
          "base_uri": "https://localhost:8080/",
          "height": 367
        },
        "id": "-d6a-vypqxnF",
        "outputId": "f7359187-29f9-453e-f5d2-d3fae75b6dbe"
      },
      "outputs": [
        {
          "name": "stderr",
          "output_type": "stream",
          "text": [
            "/usr/local/lib/python3.7/dist-packages/seaborn/distributions.py:2619: FutureWarning: `distplot` is a deprecated function and will be removed in a future version. Please adapt your code to use either `displot` (a figure-level function with similar flexibility) or `histplot` (an axes-level function for histograms).\n",
            "  warnings.warn(msg, FutureWarning)\n"
          ]
        },
        {
          "data": {
            "text/plain": [
              "Text(0.5, 1.0, 'Distribution of lengths of the post')"
            ]
          },
          "execution_count": 8,
          "metadata": {},
          "output_type": "execute_result"
        },
        {
          "data": {
            "image/png": "[encoded data removed]",
            "text/plain": [
              "<Figure size 432x288 with 1 Axes>"
            ]
          },
          "metadata": {
            "needs_background": "light"
          },
          "output_type": "display_data"
        }
      ],
      "source": [
        "sns.distplot(mbti_df[\"posts\"].apply(len))\n",
        "plt.xlabel(\"Length of posts\")\n",
        "plt.ylabel(\"Density\")\n",
        "plt.title(\"Distribution of lengths of the post\")"
      ]
    },
    {
      "cell_type": "markdown",
      "metadata": {
        "id": "1Jg3pDShDARL"
      },
      "source": [
        "##Preprocessing of Dataset"
      ]
    },
    {
      "cell_type": "code",
      "execution_count": 76,
      "metadata": {
        "id": "T8cAuh6C_S8h"
      },
      "outputs": [],
      "source": [
        "mbti_df[\"posts\"] = mbti_df[\"posts\"].str.lower()       #converts text in posts to lowercase as it is preferred in nlp"
      ]
    },
    {
      "cell_type": "code",
      "execution_count": 77,
      "metadata": {
        "id": "wmLdL7Fj_bgY"
      },
      "outputs": [],
      "source": [
        "for i in range(len(mbti_df)):\n",
        "  post_temp=mbti_df._get_value(i, 'posts')\n",
        "  pattern = re.compile(r'https?://[a-zA-Z0-9./-]*/[a-zA-Z0-9?=_.]*[_0-9.a-zA-Z/-]*')    #to match url links present in the post\n",
        "  post_temp= re.sub(pattern, ' ', post_temp)                                            #to replace that url link with space\n",
        "  mbti_df._set_value(i, 'posts',post_temp)"
      ]
    },
    {
      "cell_type": "code",
      "execution_count": 78,
      "metadata": {
        "id": "3qp_SgT_AKOS"
      },
      "outputs": [],
      "source": [
        "for i in range(len(mbti_df)):\n",
        "  post_temp=mbti_df._get_value(i, 'posts')\n",
        "  pattern = re.compile(r'[0-9]')                                    #to match numbers from 0 to 9\n",
        "  post_temp= re.sub(pattern, ' ', post_temp)                        #to replace them with space\n",
        "  pattern = re.compile('\\W+')                                       #to match alphanumeric characters\n",
        "  post_temp= re.sub(pattern, ' ', post_temp)                        #to replace them with space\n",
        "  pattern = re.compile(r'[_+]')\n",
        "  post_temp= re.sub(pattern, ' ', post_temp)\n",
        "  mbti_df._set_value(i, 'posts',post_temp)"
      ]
    },
    {
      "cell_type": "code",
      "execution_count": 79,
      "metadata": {
        "id": "8DsdXMOIAPQS"
      },
      "outputs": [],
      "source": [
        "for i in range(len(mbti_df)):\n",
        "  post_temp=mbti_df._get_value(i, 'posts')\n",
        "  pattern = re.compile('\\s+')                                     #to match multiple whitespaces\n",
        "  post_temp= re.sub(pattern, ' ', post_temp)                      #to replace them with single whitespace\n",
        "  mbti_df._set_value(i, 'posts', post_temp)"
      ]
    },
    {
      "cell_type": "code",
      "execution_count": 80,
      "metadata": {
        "colab": {
          "base_uri": "https://localhost:8080/"
        },
        "id": "3ZmTr3xZfYRJ",
        "outputId": "a344db7c-d293-4350-e461-d70022a0bfcc"
      },
      "outputs": [
        {
          "name": "stdout",
          "output_type": "stream",
          "text": [
            "[nltk_data] Downloading package stopwords to /root/nltk_data...\n",
            "[nltk_data]   Package stopwords is already up-to-date!\n"
          ]
        },
        {
          "data": {
            "text/plain": [
              "True"
            ]
          },
          "execution_count": 80,
          "metadata": {},
          "output_type": "execute_result"
        }
      ],
      "source": [
        "from nltk.corpus import stopwords\n",
        "nltk.download('stopwords')"
      ]
    },
    {
      "cell_type": "code",
      "execution_count": 81,
      "metadata": {
        "id": "4qNv7j1JATMV"
      },
      "outputs": [],
      "source": [
        "remove_words = stopwords.words(\"english\")\n",
        "for i in range(mbti_df.shape[0]):\n",
        "  post_temp=mbti_df._get_value(i, 'posts')\n",
        "  post_temp=\" \".join([w for w in post_temp.split(' ') if w not in remove_words])    #to remove stopwords\n",
        "  mbti_df._set_value(i, 'posts', post_temp)"
      ]
    },
    {
      "cell_type": "code",
      "execution_count": 82,
      "metadata": {
        "colab": {
          "base_uri": "https://localhost:8080/"
        },
        "id": "y8USLXEUAXVN",
        "outputId": "2460869d-df2c-4e47-ff6f-63c1314c359f"
      },
      "outputs": [
        {
          "name": "stdout",
          "output_type": "stream",
          "text": [
            "[nltk_data] Downloading package wordnet to /root/nltk_data...\n",
            "[nltk_data]   Package wordnet is already up-to-date!\n"
          ]
        },
        {
          "data": {
            "text/plain": [
              "True"
            ]
          },
          "execution_count": 82,
          "metadata": {},
          "output_type": "execute_result"
        }
      ],
      "source": [
        "from nltk.stem import WordNetLemmatizer\n",
        "lemmatizer = WordNetLemmatizer()\n",
        "nltk.download('wordnet')"
      ]
    },
    {
      "cell_type": "code",
      "execution_count": 83,
      "metadata": {
        "id": "li96Li0_tFHV"
      },
      "outputs": [],
      "source": [
        "for i in range(mbti_df.shape[0]):\n",
        "  post_temp=mbti_df._get_value(i, 'posts')\n",
        "  post_temp=\" \".join([lemmatizer.lemmatize(w) for w in post_temp.split(' ')])   #to implement lemmetization i.e. to group together different forms of a word\n",
        "  mbti_df._set_value(i, 'posts', post_temp)"
      ]
    },
    {
      "cell_type": "code",
      "execution_count": 84,
      "metadata": {
        "colab": {
          "base_uri": "https://localhost:8080/"
        },
        "id": "EAY1cPXo2V_9",
        "outputId": "a20f6aa2-bafa-4dd9-a065-b003b2155dda"
      },
      "outputs": [
        {
          "name": "stdout",
          "output_type": "stream",
          "text": [
            "      type                                              posts\n",
            "0     INFJ   enfp intj moment sportscenter top ten play pr...\n",
            "1     ENTP   finding lack post alarming sex boring positio...\n",
            "2     INTP   good one course say know blessing curse absol...\n",
            "3     INTJ   dear intp enjoyed conversation day esoteric g...\n",
            "4     ENTJ   fired another silly misconception approaching...\n",
            "...    ...                                                ...\n",
            "8670  ISFP   ixfp always think cat fi doms reason especial...\n",
            "8671  ENFP   thread already exists someplace else post hec...\n",
            "8672  INTP   many question thing would take purple pill pi...\n",
            "8673  INFP   conflicted right come wanting child honestly ...\n",
            "8674  INFP   long since personalitycafe although seem chan...\n",
            "\n",
            "[8675 rows x 2 columns]\n"
          ]
        }
      ],
      "source": [
        "print(mbti_df)"
      ]
    },
    {
      "cell_type": "code",
      "execution_count": 85,
      "metadata": {
        "id": "PWWzo1xJjmlJ"
      },
      "outputs": [],
      "source": [
        "from sklearn.model_selection import train_test_split\n",
        "train_data,test_data=train_test_split(mbti_df,test_size=0.2,random_state=42,stratify=mbti_df.type)"
      ]
    },
    {
      "cell_type": "code",
      "execution_count": 86,
      "metadata": {
        "colab": {
          "base_uri": "https://localhost:8080/"
        },
        "id": "t2Px4BOhocLG",
        "outputId": "74324bb6-37f8-4f58-d39d-32571c965683"
      },
      "outputs": [
        {
          "name": "stdout",
          "output_type": "stream",
          "text": [
            "      type                                              posts\n",
            "7814  INFP   macona depends big family extroverted people ...\n",
            "2233  ENFJ   blodsmak sveltihel brilliant episode regenera...\n",
            "7261  INFJ   heylena lol compliment accepted thank jeesh f...\n",
            "7794  INFJ   pac right rocket coffin like packed warhead r...\n",
            "2950  INTJ   title thread misleading mention world dominat...\n",
            "...    ...                                                ...\n",
            "2006  INTJ   one sentence restrictive accurately portray d...\n",
            "7137  ISTJ   wanted like odd hybrid dr james wilson house ...\n",
            "6091  ENTP   took cognitive process test got cognitive pro...\n",
            "2997  INFJ   get caught fantacy relationship better forget...\n",
            "5458  ENTJ   doll love movie listed make think tritype one...\n",
            "\n",
            "[1735 rows x 2 columns]\n"
          ]
        }
      ],
      "source": [
        "print(test_data)"
      ]
    },
    {
      "cell_type": "code",
      "execution_count": 87,
      "metadata": {
        "id": "bto8kof7SbRl"
      },
      "outputs": [],
      "source": [
        "vectorizer=TfidfVectorizer( max_features=5000,stop_words='english')\n",
        "vectorizer.fit(train_data.posts)\n",
        "train_post=vectorizer.transform(train_data.posts).toarray()\n",
        "test_post=vectorizer.transform(test_data.posts).toarray()"
      ]
    },
    {
      "cell_type": "code",
      "execution_count": 88,
      "metadata": {
        "id": "NXKwMd_0auTU"
      },
      "outputs": [],
      "source": [
        "from sklearn.preprocessing import LabelEncoder\n",
        "target_encoder=LabelEncoder()\n",
        "train_target=target_encoder.fit_transform(train_data.type)\n",
        "test_target=target_encoder.fit_transform(test_data.type)"
      ]
    },
    {
      "cell_type": "markdown",
      "metadata": {
        "id": "c568E9sYCrYt"
      },
      "source": [
        "##Training different models and testing their performance"
      ]
    },
    {
      "cell_type": "markdown",
      "metadata": {
        "id": "R0p-CxWhFV14"
      },
      "source": [
        "###Gaussian Naive Bayes"
      ]
    },
    {
      "cell_type": "code",
      "execution_count": 94,
      "metadata": {
        "id": "TqL3uVoa2YCN"
      },
      "outputs": [],
      "source": [
        "from sklearn.naive_bayes import GaussianNB"
      ]
    },
    {
      "cell_type": "code",
      "execution_count": 95,
      "metadata": {
        "id": "QsYBNcbC2ZJD"
      },
      "outputs": [],
      "source": [
        "model_gnb=GaussianNB()\n",
        "model_gnb.fit(train_post,train_target)\n",
        "pred_gnb=model_gnb.predict(test_post)"
      ]
    },
    {
      "cell_type": "code",
      "execution_count": 96,
      "metadata": {
        "id": "FEWDc3PA2mLU"
      },
      "outputs": [],
      "source": [
        "pred_training_gnb=model_gnb.predict(train_post)"
      ]
    },
    {
      "cell_type": "code",
      "execution_count": 97,
      "metadata": {
        "colab": {
          "base_uri": "https://localhost:8080/"
        },
        "id": "P3QYglZC2yMw",
        "outputId": "447ef4da-d5ae-41a2-a75b-56ada5735fc1"
      },
      "outputs": [
        {
          "name": "stdout",
          "output_type": "stream",
          "text": [
            "The train accuracy score for model trained on Gaussian Naive Bayes Classifier is: 0.676657060518732\n"
          ]
        }
      ],
      "source": [
        "print(\"The train accuracy score for model trained on Gaussian Naive Bayes Classifier is:\",accuracy_score(train_target,pred_training_gnb))"
      ]
    },
    {
      "cell_type": "code",
      "execution_count": 98,
      "metadata": {
        "colab": {
          "base_uri": "https://localhost:8080/"
        },
        "id": "2dHJo8eK2yMw",
        "outputId": "94e45a88-35f3-4b3c-bc79-9559234dc89b"
      },
      "outputs": [
        {
          "name": "stdout",
          "output_type": "stream",
          "text": [
            "The test acccuracy score for model trained on Gaussian Naive Bayes Classifier is: 0.25878962536023054\n"
          ]
        }
      ],
      "source": [
        "print(\"The test acccuracy score for model trained on Gaussian Naive Bayes Classifier is:\",accuracy_score(test_target,pred_gnb))"
      ]
    },
    {
      "cell_type": "code",
      "execution_count": 111,
      "metadata": {
        "colab": {
          "base_uri": "https://localhost:8080/"
        },
        "id": "o8QStU0DmGPD",
        "outputId": "c891e9d6-948a-4bc7-ba76-43e188fa5b96"
      },
      "outputs": [
        {
          "name": "stdout",
          "output_type": "stream",
          "text": [
            "Test classification report of of Gaussian Naive Bayes\n",
            "               precision    recall  f1-score   support\n",
            "\n",
            "        ENFJ       0.09      0.05      0.07        38\n",
            "        ENFP       0.21      0.24      0.22       135\n",
            "        ENTJ       0.01      0.02      0.02        46\n",
            "        ENTP       0.23      0.20      0.22       137\n",
            "        ESFJ       0.00      0.00      0.00         9\n",
            "        ESFP       0.00      0.00      0.00        10\n",
            "        ESTJ       0.00      0.00      0.00         8\n",
            "        ESTP       0.00      0.00      0.00        18\n",
            "        INFJ       0.34      0.30      0.32       294\n",
            "        INFP       0.42      0.33      0.37       366\n",
            "        INTJ       0.27      0.29      0.28       218\n",
            "        INTP       0.36      0.32      0.34       261\n",
            "        ISFJ       0.00      0.00      0.00        33\n",
            "        ISFP       0.08      0.15      0.11        54\n",
            "        ISTJ       0.15      0.12      0.14        41\n",
            "        ISTP       0.09      0.27      0.13        67\n",
            "\n",
            "    accuracy                           0.26      1735\n",
            "   macro avg       0.14      0.14      0.14      1735\n",
            "weighted avg       0.28      0.26      0.27      1735\n",
            "\n"
          ]
        },
        {
          "name": "stderr",
          "output_type": "stream",
          "text": [
            "/usr/local/lib/python3.7/dist-packages/sklearn/metrics/_classification.py:1318: UndefinedMetricWarning: Precision and F-score are ill-defined and being set to 0.0 in labels with no predicted samples. Use `zero_division` parameter to control this behavior.\n",
            "  _warn_prf(average, modifier, msg_start, len(result))\n",
            "/usr/local/lib/python3.7/dist-packages/sklearn/metrics/_classification.py:1318: UndefinedMetricWarning: Precision and F-score are ill-defined and being set to 0.0 in labels with no predicted samples. Use `zero_division` parameter to control this behavior.\n",
            "  _warn_prf(average, modifier, msg_start, len(result))\n",
            "/usr/local/lib/python3.7/dist-packages/sklearn/metrics/_classification.py:1318: UndefinedMetricWarning: Precision and F-score are ill-defined and being set to 0.0 in labels with no predicted samples. Use `zero_division` parameter to control this behavior.\n",
            "  _warn_prf(average, modifier, msg_start, len(result))\n"
          ]
        }
      ],
      "source": [
        "from sklearn.metrics import classification_report\n",
        "personality_types=target_encoder.inverse_transform([i for i in range(16)])\n",
        "print('Test classification report of Gaussian Naive Bayes\\n',classification_report(test_target,model_gnb.predict(test_post),target_names=personality_types))"
      ]
    },
    {
      "cell_type": "markdown",
      "metadata": {
        "id": "rw9X8Ve7Fa-A"
      },
      "source": [
        "###Multinomial Naive Bayes"
      ]
    },
    {
      "cell_type": "code",
      "execution_count": 99,
      "metadata": {
        "id": "vKBTbpxn3rQt"
      },
      "outputs": [],
      "source": [
        "from sklearn.naive_bayes import MultinomialNB"
      ]
    },
    {
      "cell_type": "code",
      "execution_count": 100,
      "metadata": {
        "id": "NcgFgatV3rQt"
      },
      "outputs": [],
      "source": [
        "model_mnb=MultinomialNB()\n",
        "model_mnb.fit(train_post,train_target)\n",
        "pred_mnb=model_mnb.predict(test_post)"
      ]
    },
    {
      "cell_type": "code",
      "execution_count": 101,
      "metadata": {
        "id": "F-beHAM43rQu"
      },
      "outputs": [],
      "source": [
        "pred_training_mnb=model_mnb.predict(train_post)"
      ]
    },
    {
      "cell_type": "code",
      "execution_count": 113,
      "metadata": {
        "colab": {
          "base_uri": "https://localhost:8080/"
        },
        "id": "uIuIINdr3rQu",
        "outputId": "309e5c3a-e103-4b05-d74b-cc3bb396e537"
      },
      "outputs": [
        {
          "name": "stdout",
          "output_type": "stream",
          "text": [
            "The train accuracy score for model trained on Multinomial Naive Bayes Classifier is: 0.46066282420749277\n"
          ]
        }
      ],
      "source": [
        "print(\"The train accuracy score for model trained on Multinomial Naive Bayes Classifier is:\",accuracy_score(train_target,pred_training_mnb))"
      ]
    },
    {
      "cell_type": "code",
      "execution_count": 114,
      "metadata": {
        "colab": {
          "base_uri": "https://localhost:8080/"
        },
        "id": "XN-cgvYc3rQu",
        "outputId": "78abbb9b-fc92-438f-ee8b-8462be4bad4f"
      },
      "outputs": [
        {
          "name": "stdout",
          "output_type": "stream",
          "text": [
            "The test acccuracy score for model trained on Multinomial Naive Bayes Classifier is: 0.3804034582132565\n"
          ]
        }
      ],
      "source": [
        "print(\"The test acccuracy score for model trained on Multinomial Naive Bayes Classifier is:\",accuracy_score(test_target,pred_mnb))"
      ]
    },
    {
      "cell_type": "code",
      "execution_count": 112,
      "metadata": {
        "colab": {
          "base_uri": "https://localhost:8080/"
        },
        "id": "W3uPUI7Fm0Wk",
        "outputId": "bc2e71d3-0685-4330-d103-ed23329c478b"
      },
      "outputs": [
        {
          "name": "stdout",
          "output_type": "stream",
          "text": [
            "Test classification report of Multinomial Naive Bayes \n",
            "               precision    recall  f1-score   support\n",
            "\n",
            "        ENFJ       0.00      0.00      0.00        38\n",
            "        ENFP       1.00      0.01      0.01       135\n",
            "        ENTJ       0.00      0.00      0.00        46\n",
            "        ENTP       0.75      0.02      0.04       137\n",
            "        ESFJ       0.00      0.00      0.00         9\n",
            "        ESFP       0.00      0.00      0.00        10\n",
            "        ESTJ       0.00      0.00      0.00         8\n",
            "        ESTP       0.00      0.00      0.00        18\n",
            "        INFJ       0.38      0.44      0.41       294\n",
            "        INFP       0.32      0.91      0.47       366\n",
            "        INTJ       0.70      0.21      0.32       218\n",
            "        INTP       0.54      0.56      0.55       261\n",
            "        ISFJ       0.00      0.00      0.00        33\n",
            "        ISFP       0.00      0.00      0.00        54\n",
            "        ISTJ       0.00      0.00      0.00        41\n",
            "        ISTP       0.00      0.00      0.00        67\n",
            "\n",
            "    accuracy                           0.38      1735\n",
            "   macro avg       0.23      0.13      0.11      1735\n",
            "weighted avg       0.44      0.38      0.30      1735\n",
            "\n"
          ]
        },
        {
          "name": "stderr",
          "output_type": "stream",
          "text": [
            "/usr/local/lib/python3.7/dist-packages/sklearn/metrics/_classification.py:1318: UndefinedMetricWarning: Precision and F-score are ill-defined and being set to 0.0 in labels with no predicted samples. Use `zero_division` parameter to control this behavior.\n",
            "  _warn_prf(average, modifier, msg_start, len(result))\n",
            "/usr/local/lib/python3.7/dist-packages/sklearn/metrics/_classification.py:1318: UndefinedMetricWarning: Precision and F-score are ill-defined and being set to 0.0 in labels with no predicted samples. Use `zero_division` parameter to control this behavior.\n",
            "  _warn_prf(average, modifier, msg_start, len(result))\n",
            "/usr/local/lib/python3.7/dist-packages/sklearn/metrics/_classification.py:1318: UndefinedMetricWarning: Precision and F-score are ill-defined and being set to 0.0 in labels with no predicted samples. Use `zero_division` parameter to control this behavior.\n",
            "  _warn_prf(average, modifier, msg_start, len(result))\n"
          ]
        }
      ],
      "source": [
        "from sklearn.metrics import classification_report\n",
        "personality_types=target_encoder.inverse_transform([i for i in range(16)])\n",
        "print('Test classification report of Multinomial Naive Bayes \\n',classification_report(test_target,model_mnb.predict(test_post),target_names=personality_types))"
      ]
    },
    {
      "cell_type": "markdown",
      "metadata": {
        "id": "yg9fX1f3FhP7"
      },
      "source": [
        "###Random Forest Classifier"
      ]
    },
    {
      "cell_type": "code",
      "execution_count": 89,
      "metadata": {
        "id": "zPPsInedCp8B"
      },
      "outputs": [],
      "source": [
        "from sklearn.ensemble import RandomForestClassifier"
      ]
    },
    {
      "cell_type": "code",
      "execution_count": 90,
      "metadata": {
        "id": "957FGg0qbM9L"
      },
      "outputs": [],
      "source": [
        "model_rfc=RandomForestClassifier()\n",
        "model_rfc.fit(train_post,train_target)\n",
        "pred_rfc=model_rfc.predict(test_post)"
      ]
    },
    {
      "cell_type": "code",
      "execution_count": 91,
      "metadata": {
        "id": "YS03_yXSxIFx"
      },
      "outputs": [],
      "source": [
        "pred_training_rfc=model_rfc.predict(train_post)"
      ]
    },
    {
      "cell_type": "code",
      "execution_count": 92,
      "metadata": {
        "colab": {
          "base_uri": "https://localhost:8080/"
        },
        "id": "w-YqTB4otj21",
        "outputId": "7b1431f7-6a18-4903-d91b-dfd1a8c2c6f2"
      },
      "outputs": [
        {
          "name": "stdout",
          "output_type": "stream",
          "text": [
            "The train accuracy score for model trained on Random Forest Classifier is: 1.0\n"
          ]
        }
      ],
      "source": [
        "print(\"The train accuracy score for model trained on Random Forest Classifier is:\",accuracy_score(train_target,pred_training_rfc))"
      ]
    },
    {
      "cell_type": "code",
      "execution_count": 93,
      "metadata": {
        "colab": {
          "base_uri": "https://localhost:8080/"
        },
        "id": "siZ87ojfbkSI",
        "outputId": "1a75c071-dd2d-4552-e946-2a2517c9c1ce"
      },
      "outputs": [
        {
          "name": "stdout",
          "output_type": "stream",
          "text": [
            "The test acccuracy score for model trained on Random Forest Classifier is: 0.5596541786743516\n"
          ]
        }
      ],
      "source": [
        "print(\"The test acccuracy score for model trained on Random Forest Classifier is:\",accuracy_score(test_target,pred_rfc))"
      ]
    },
    {
      "cell_type": "code",
      "execution_count": 115,
      "metadata": {
        "colab": {
          "base_uri": "https://localhost:8080/"
        },
        "id": "8PuZ2JcRpYEz",
        "outputId": "15b88253-dce9-49de-cc02-29fa8b981e8c"
      },
      "outputs": [
        {
          "name": "stdout",
          "output_type": "stream",
          "text": [
            "Test classification report of Random Forest Classifier\n",
            "               precision    recall  f1-score   support\n",
            "\n",
            "        ENFJ       1.00      0.05      0.10        38\n",
            "        ENFP       0.77      0.36      0.49       135\n",
            "        ENTJ       0.75      0.07      0.12        46\n",
            "        ENTP       0.66      0.37      0.48       137\n",
            "        ESFJ       0.00      0.00      0.00         9\n",
            "        ESFP       0.00      0.00      0.00        10\n",
            "        ESTJ       0.00      0.00      0.00         8\n",
            "        ESTP       0.00      0.00      0.00        18\n",
            "        INFJ       0.56      0.71      0.63       294\n",
            "        INFP       0.48      0.89      0.63       366\n",
            "        INTJ       0.62      0.57      0.59       218\n",
            "        INTP       0.59      0.72      0.65       261\n",
            "        ISFJ       0.00      0.00      0.00        33\n",
            "        ISFP       0.00      0.00      0.00        54\n",
            "        ISTJ       0.00      0.00      0.00        41\n",
            "        ISTP       0.86      0.28      0.43        67\n",
            "\n",
            "    accuracy                           0.56      1735\n",
            "   macro avg       0.39      0.25      0.26      1735\n",
            "weighted avg       0.55      0.56      0.51      1735\n",
            "\n"
          ]
        },
        {
          "name": "stderr",
          "output_type": "stream",
          "text": [
            "/usr/local/lib/python3.7/dist-packages/sklearn/metrics/_classification.py:1318: UndefinedMetricWarning: Precision and F-score are ill-defined and being set to 0.0 in labels with no predicted samples. Use `zero_division` parameter to control this behavior.\n",
            "  _warn_prf(average, modifier, msg_start, len(result))\n",
            "/usr/local/lib/python3.7/dist-packages/sklearn/metrics/_classification.py:1318: UndefinedMetricWarning: Precision and F-score are ill-defined and being set to 0.0 in labels with no predicted samples. Use `zero_division` parameter to control this behavior.\n",
            "  _warn_prf(average, modifier, msg_start, len(result))\n",
            "/usr/local/lib/python3.7/dist-packages/sklearn/metrics/_classification.py:1318: UndefinedMetricWarning: Precision and F-score are ill-defined and being set to 0.0 in labels with no predicted samples. Use `zero_division` parameter to control this behavior.\n",
            "  _warn_prf(average, modifier, msg_start, len(result))\n"
          ]
        }
      ],
      "source": [
        "from sklearn.metrics import classification_report\n",
        "personality_types=target_encoder.inverse_transform([i for i in range(16)])\n",
        "print('Test classification report of Random Forest Classifier\\n',classification_report(test_target,model_rfc.predict(test_post),target_names=personality_types))"
      ]
    },
    {
      "cell_type": "markdown",
      "metadata": {
        "id": "4I7JctZ8Flwu"
      },
      "source": [
        "###XGBoost Classifier"
      ]
    },
    {
      "cell_type": "code",
      "execution_count": 104,
      "metadata": {
        "id": "YgdjF3EnmFOq"
      },
      "outputs": [],
      "source": [
        "from xgboost import XGBClassifier\n",
        "model_xgb=XGBClassifier()\n",
        "model_xgb.fit(train_post,train_target)\n",
        "pred_xgb=model_xgb.predict(test_post)"
      ]
    },
    {
      "cell_type": "code",
      "execution_count": 105,
      "metadata": {
        "id": "XyQcJaL9xbd9"
      },
      "outputs": [],
      "source": [
        "pred_training_xgb=model_xgb.predict(train_post)"
      ]
    },
    {
      "cell_type": "code",
      "execution_count": 106,
      "metadata": {
        "colab": {
          "base_uri": "https://localhost:8080/"
        },
        "id": "viANRdgrxbd9",
        "outputId": "ac89a17d-2215-47b0-ed21-af0cd516949e"
      },
      "outputs": [
        {
          "name": "stdout",
          "output_type": "stream",
          "text": [
            "The train accuracy score for model trained on XGBoost Classifier is: 0.8626801152737752\n"
          ]
        }
      ],
      "source": [
        "print(\"The train accuracy score for model trained on XGBoost Classifier is:\",accuracy_score(train_target,pred_training_xgb))"
      ]
    },
    {
      "cell_type": "code",
      "execution_count": 107,
      "metadata": {
        "colab": {
          "base_uri": "https://localhost:8080/"
        },
        "id": "d9W2cx5qmMz0",
        "outputId": "5fbe72cd-a1da-43b7-b0fb-6a221c78974e"
      },
      "outputs": [
        {
          "name": "stdout",
          "output_type": "stream",
          "text": [
            "The test accuracy score for model trained on XGBoost classifier is: 0.6755043227665706\n"
          ]
        }
      ],
      "source": [
        "print(\"The test accuracy score for model trained on XGBoost classifier is:\",accuracy_score(test_target,pred_xgb))"
      ]
    },
    {
      "cell_type": "code",
      "execution_count": 116,
      "metadata": {
        "colab": {
          "base_uri": "https://localhost:8080/"
        },
        "id": "fiBkDa5qppMW",
        "outputId": "012db2b8-99bc-47b0-a407-c146f01cb1a8"
      },
      "outputs": [
        {
          "name": "stdout",
          "output_type": "stream",
          "text": [
            "Test classification report of XGBoost Classifier\n",
            "               precision    recall  f1-score   support\n",
            "\n",
            "        ENFJ       0.62      0.47      0.54        38\n",
            "        ENFP       0.72      0.64      0.67       135\n",
            "        ENTJ       0.80      0.43      0.56        46\n",
            "        ENTP       0.62      0.59      0.60       137\n",
            "        ESFJ       1.00      0.22      0.36         9\n",
            "        ESFP       1.00      0.10      0.18        10\n",
            "        ESTJ       1.00      0.38      0.55         8\n",
            "        ESTP       0.46      0.33      0.39        18\n",
            "        INFJ       0.71      0.74      0.73       294\n",
            "        INFP       0.66      0.80      0.72       366\n",
            "        INTJ       0.65      0.67      0.66       218\n",
            "        INTP       0.68      0.75      0.72       261\n",
            "        ISFJ       0.68      0.58      0.62        33\n",
            "        ISFP       0.73      0.44      0.55        54\n",
            "        ISTJ       0.64      0.39      0.48        41\n",
            "        ISTP       0.69      0.64      0.67        67\n",
            "\n",
            "    accuracy                           0.68      1735\n",
            "   macro avg       0.73      0.51      0.56      1735\n",
            "weighted avg       0.68      0.68      0.67      1735\n",
            "\n"
          ]
        }
      ],
      "source": [
        "from sklearn.metrics import classification_report\n",
        "personality_types=target_encoder.inverse_transform([i for i in range(16)])\n",
        "print('Test classification report of XGBoost Classifier\\n',classification_report(test_target,model_xgb.predict(test_post),target_names=personality_types))"
      ]
    },
    {
      "cell_type": "markdown",
      "metadata": {
        "id": "RUdrYTAnFuYP"
      },
      "source": [
        "###LightGBM Classifier"
      ]
    },
    {
      "cell_type": "code",
      "execution_count": 108,
      "metadata": {
        "id": "cJQFdnKsu1eU"
      },
      "outputs": [],
      "source": [
        "from lightgbm import LGBMClassifier as lgb\n",
        "model_lgb = lgb()\n",
        "model_lgb.fit(train_post,train_target)\n",
        "pred_lgb=model_lgb.predict(test_post)"
      ]
    },
    {
      "cell_type": "code",
      "execution_count": 49,
      "metadata": {
        "id": "0ASOCGMux5Vd"
      },
      "outputs": [],
      "source": [
        "pred_training_lgb=model_lgb.predict(train_post)"
      ]
    },
    {
      "cell_type": "code",
      "execution_count": 50,
      "metadata": {
        "colab": {
          "base_uri": "https://localhost:8080/"
        },
        "id": "KzNcvKoDx5Ve",
        "outputId": "135dbf34-1944-42f7-9a3b-ab646666fb69"
      },
      "outputs": [
        {
          "name": "stdout",
          "output_type": "stream",
          "text": [
            "The train accuracy score for model trained on LightGBM Classifier is: 1.0\n"
          ]
        }
      ],
      "source": [
        "print(\"The train accuracy score for model trained on LightGBM Classifier is:\",accuracy_score(train_target,pred_training_lgb))"
      ]
    },
    {
      "cell_type": "code",
      "execution_count": 51,
      "metadata": {
        "colab": {
          "base_uri": "https://localhost:8080/"
        },
        "id": "CKLHXOZWvNTp",
        "outputId": "45361df3-d5d1-4e23-908f-16061b85f75a"
      },
      "outputs": [
        {
          "name": "stdout",
          "output_type": "stream",
          "text": [
            "The test accuracy score for model trained on LightGBM classifier is: 0.6703170028818444\n"
          ]
        }
      ],
      "source": [
        "print(\"The test accuracy score for model trained on LightGBM classifier is:\",accuracy_score(test_target,pred_lgb))"
      ]
    },
    {
      "cell_type": "code",
      "execution_count": 117,
      "metadata": {
        "colab": {
          "base_uri": "https://localhost:8080/"
        },
        "id": "7RNdIXWapt8F",
        "outputId": "5dc6cbca-8167-4d57-833f-36ab1ddd2a28"
      },
      "outputs": [
        {
          "name": "stdout",
          "output_type": "stream",
          "text": [
            "Test classification report of LightGBM Classifier\n",
            "               precision    recall  f1-score   support\n",
            "\n",
            "        ENFJ       0.71      0.39      0.51        38\n",
            "        ENFP       0.72      0.65      0.68       135\n",
            "        ENTJ       0.74      0.43      0.55        46\n",
            "        ENTP       0.59      0.58      0.59       137\n",
            "        ESFJ       1.00      0.11      0.20         9\n",
            "        ESFP       0.00      0.00      0.00        10\n",
            "        ESTJ       0.00      0.00      0.00         8\n",
            "        ESTP       0.56      0.28      0.37        18\n",
            "        INFJ       0.68      0.75      0.71       294\n",
            "        INFP       0.66      0.81      0.73       366\n",
            "        INTJ       0.66      0.67      0.67       218\n",
            "        INTP       0.70      0.77      0.73       261\n",
            "        ISFJ       0.67      0.42      0.52        33\n",
            "        ISFP       0.79      0.50      0.61        54\n",
            "        ISTJ       0.68      0.37      0.48        41\n",
            "        ISTP       0.68      0.57      0.62        67\n",
            "\n",
            "    accuracy                           0.67      1735\n",
            "   macro avg       0.62      0.46      0.50      1735\n",
            "weighted avg       0.67      0.67      0.66      1735\n",
            "\n"
          ]
        },
        {
          "name": "stderr",
          "output_type": "stream",
          "text": [
            "/usr/local/lib/python3.7/dist-packages/sklearn/metrics/_classification.py:1318: UndefinedMetricWarning: Precision and F-score are ill-defined and being set to 0.0 in labels with no predicted samples. Use `zero_division` parameter to control this behavior.\n",
            "  _warn_prf(average, modifier, msg_start, len(result))\n",
            "/usr/local/lib/python3.7/dist-packages/sklearn/metrics/_classification.py:1318: UndefinedMetricWarning: Precision and F-score are ill-defined and being set to 0.0 in labels with no predicted samples. Use `zero_division` parameter to control this behavior.\n",
            "  _warn_prf(average, modifier, msg_start, len(result))\n",
            "/usr/local/lib/python3.7/dist-packages/sklearn/metrics/_classification.py:1318: UndefinedMetricWarning: Precision and F-score are ill-defined and being set to 0.0 in labels with no predicted samples. Use `zero_division` parameter to control this behavior.\n",
            "  _warn_prf(average, modifier, msg_start, len(result))\n"
          ]
        }
      ],
      "source": [
        "from sklearn.metrics import classification_report\n",
        "personality_types=target_encoder.inverse_transform([i for i in range(16)])\n",
        "print('Test classification report of LightGBM Classifier\\n',classification_report(test_target,model_lgb.predict(test_post),target_names=personality_types))"
      ]
    },
    {
      "cell_type": "markdown",
      "metadata": {
        "id": "hPUwQigxGGtS"
      },
      "source": [
        "###Support Vector Classifier"
      ]
    },
    {
      "cell_type": "code",
      "execution_count": 109,
      "metadata": {
        "id": "ZFcz2kPN7whx"
      },
      "outputs": [],
      "source": [
        "from sklearn.svm import SVC"
      ]
    },
    {
      "cell_type": "code",
      "execution_count": 110,
      "metadata": {
        "id": "zG65CdgD7xLN"
      },
      "outputs": [],
      "source": [
        "model_svc=SVC()\n",
        "model_svc.fit(train_post,train_target)\n",
        "pred_svc=model_svc.predict(test_post)"
      ]
    },
    {
      "cell_type": "code",
      "execution_count": 118,
      "metadata": {
        "id": "cBRdO5gn74YK"
      },
      "outputs": [],
      "source": [
        "pred_training_svc=model_svc.predict(train_post)"
      ]
    },
    {
      "cell_type": "code",
      "execution_count": 119,
      "metadata": {
        "colab": {
          "base_uri": "https://localhost:8080/"
        },
        "id": "yTTrrpjF74YL",
        "outputId": "5351f014-c1f2-4be3-ace5-f8ced22cb9b5"
      },
      "outputs": [
        {
          "name": "stdout",
          "output_type": "stream",
          "text": [
            "The train accuracy score for model trained on Support Classifier is: 0.9510086455331412\n"
          ]
        }
      ],
      "source": [
        "print(\"The train accuracy score for model trained on Support Classifier is:\",accuracy_score(train_target,pred_training_svc))"
      ]
    },
    {
      "cell_type": "code",
      "execution_count": 120,
      "metadata": {
        "colab": {
          "base_uri": "https://localhost:8080/"
        },
        "id": "XvftYo8574YM",
        "outputId": "5feb36d5-e2a8-4782-8e7c-79ad8ba68119"
      },
      "outputs": [
        {
          "name": "stdout",
          "output_type": "stream",
          "text": [
            "The test accuracy score for model trained on Support Vector classifier is: 0.6536023054755044\n"
          ]
        }
      ],
      "source": [
        "print(\"The test accuracy score for model trained on Support Vector classifier is:\",accuracy_score(test_target,pred_svc))"
      ]
    },
    {
      "cell_type": "code",
      "execution_count": 121,
      "metadata": {
        "colab": {
          "base_uri": "https://localhost:8080/"
        },
        "id": "SPV87PgesmPj",
        "outputId": "704ce0e2-f5a1-4e52-a893-980a19f432a9"
      },
      "outputs": [
        {
          "name": "stdout",
          "output_type": "stream",
          "text": [
            "Test classification report of Support Vector Machine\n",
            "               precision    recall  f1-score   support\n",
            "\n",
            "        ENFJ       0.67      0.26      0.38        38\n",
            "        ENFP       0.77      0.59      0.66       135\n",
            "        ENTJ       0.76      0.28      0.41        46\n",
            "        ENTP       0.68      0.52      0.59       137\n",
            "        ESFJ       0.33      0.11      0.17         9\n",
            "        ESFP       0.00      0.00      0.00        10\n",
            "        ESTJ       0.00      0.00      0.00         8\n",
            "        ESTP       0.83      0.28      0.42        18\n",
            "        INFJ       0.67      0.69      0.68       294\n",
            "        INFP       0.60      0.87      0.71       366\n",
            "        INTJ       0.65      0.64      0.64       218\n",
            "        INTP       0.65      0.84      0.73       261\n",
            "        ISFJ       0.83      0.30      0.44        33\n",
            "        ISFP       0.78      0.33      0.47        54\n",
            "        ISTJ       0.75      0.29      0.42        41\n",
            "        ISTP       0.76      0.57      0.65        67\n",
            "\n",
            "    accuracy                           0.65      1735\n",
            "   macro avg       0.61      0.41      0.46      1735\n",
            "weighted avg       0.66      0.65      0.64      1735\n",
            "\n"
          ]
        },
        {
          "name": "stderr",
          "output_type": "stream",
          "text": [
            "/usr/local/lib/python3.7/dist-packages/sklearn/metrics/_classification.py:1318: UndefinedMetricWarning: Precision and F-score are ill-defined and being set to 0.0 in labels with no predicted samples. Use `zero_division` parameter to control this behavior.\n",
            "  _warn_prf(average, modifier, msg_start, len(result))\n",
            "/usr/local/lib/python3.7/dist-packages/sklearn/metrics/_classification.py:1318: UndefinedMetricWarning: Precision and F-score are ill-defined and being set to 0.0 in labels with no predicted samples. Use `zero_division` parameter to control this behavior.\n",
            "  _warn_prf(average, modifier, msg_start, len(result))\n",
            "/usr/local/lib/python3.7/dist-packages/sklearn/metrics/_classification.py:1318: UndefinedMetricWarning: Precision and F-score are ill-defined and being set to 0.0 in labels with no predicted samples. Use `zero_division` parameter to control this behavior.\n",
            "  _warn_prf(average, modifier, msg_start, len(result))\n"
          ]
        }
      ],
      "source": [
        "from sklearn.metrics import classification_report\n",
        "personality_types=target_encoder.inverse_transform([i for i in range(16)])\n",
        "print('Test classification report of Support Vector Machine\\n',classification_report(test_target,model_svc.predict(test_post),target_names=personality_types))"
      ]
    },
    {
      "cell_type": "markdown",
      "metadata": {
        "id": "ZmN8ZCOcGLIf"
      },
      "source": [
        "###Logistic Regression"
      ]
    },
    {
      "cell_type": "code",
      "execution_count": 123,
      "metadata": {
        "id": "eV-d0P8x9sUG"
      },
      "outputs": [],
      "source": [
        "from sklearn.linear_model import LogisticRegression"
      ]
    },
    {
      "cell_type": "code",
      "execution_count": 124,
      "metadata": {
        "colab": {
          "base_uri": "https://localhost:8080/"
        },
        "id": "pAaupogw9xeW",
        "outputId": "3bdf277f-c4ea-4f96-962d-bed028b24657"
      },
      "outputs": [
        {
          "name": "stderr",
          "output_type": "stream",
          "text": [
            "/usr/local/lib/python3.7/dist-packages/sklearn/linear_model/_logistic.py:818: ConvergenceWarning: lbfgs failed to converge (status=1):\n",
            "STOP: TOTAL NO. of ITERATIONS REACHED LIMIT.\n",
            "\n",
            "Increase the number of iterations (max_iter) or scale the data as shown in:\n",
            "    https://scikit-learn.org/stable/modules/preprocessing.html\n",
            "Please also refer to the documentation for alternative solver options:\n",
            "    https://scikit-learn.org/stable/modules/linear_model.html#logistic-regression\n",
            "  extra_warning_msg=_LOGISTIC_SOLVER_CONVERGENCE_MSG,\n"
          ]
        }
      ],
      "source": [
        "model_lr=LogisticRegression()\n",
        "model_lr.fit(train_post,train_target)\n",
        "pred_lr=model_lr.predict(test_post)"
      ]
    },
    {
      "cell_type": "code",
      "execution_count": 125,
      "metadata": {
        "id": "r7V_ZIHd9xeW"
      },
      "outputs": [],
      "source": [
        "pred_training_lr=model_lr.predict(train_post)"
      ]
    },
    {
      "cell_type": "code",
      "execution_count": 126,
      "metadata": {
        "colab": {
          "base_uri": "https://localhost:8080/"
        },
        "id": "rRj2dj1Z9xeX",
        "outputId": "b6db9719-0dd7-4f63-d5be-e62f660055b2"
      },
      "outputs": [
        {
          "name": "stdout",
          "output_type": "stream",
          "text": [
            "The train accuracy score for model trained on Logistic Regression is: 0.795821325648415\n"
          ]
        }
      ],
      "source": [
        "print(\"The train accuracy score for model trained on Logistic Regression is:\",accuracy_score(train_target,pred_training_lr))"
      ]
    },
    {
      "cell_type": "code",
      "execution_count": 127,
      "metadata": {
        "colab": {
          "base_uri": "https://localhost:8080/"
        },
        "id": "T6O-PXZI9xeX",
        "outputId": "26a79357-5b4a-4526-89a9-e3359bbe131e"
      },
      "outputs": [
        {
          "name": "stdout",
          "output_type": "stream",
          "text": [
            "The test accuracy score for model trained on Logistic Regression is: 0.6501440922190201\n"
          ]
        }
      ],
      "source": [
        "print(\"The test accuracy score for model trained on Logistic Regression is:\",accuracy_score(test_target,pred_lr))"
      ]
    },
    {
      "cell_type": "code",
      "execution_count": 128,
      "metadata": {
        "colab": {
          "base_uri": "https://localhost:8080/"
        },
        "id": "Q_R8ZEIsp_rF",
        "outputId": "3d0fce58-f46e-4a3b-cd9c-6853f8e1770a"
      },
      "outputs": [
        {
          "name": "stdout",
          "output_type": "stream",
          "text": [
            "Test classification report of Logistic Regression\n",
            "               precision    recall  f1-score   support\n",
            "\n",
            "        ENFJ       0.64      0.18      0.29        38\n",
            "        ENFP       0.77      0.59      0.67       135\n",
            "        ENTJ       0.60      0.26      0.36        46\n",
            "        ENTP       0.66      0.53      0.59       137\n",
            "        ESFJ       1.00      0.11      0.20         9\n",
            "        ESFP       0.00      0.00      0.00        10\n",
            "        ESTJ       0.00      0.00      0.00         8\n",
            "        ESTP       1.00      0.11      0.20        18\n",
            "        INFJ       0.65      0.71      0.68       294\n",
            "        INFP       0.60      0.86      0.71       366\n",
            "        INTJ       0.62      0.67      0.64       218\n",
            "        INTP       0.69      0.84      0.76       261\n",
            "        ISFJ       0.67      0.18      0.29        33\n",
            "        ISFP       0.80      0.30      0.43        54\n",
            "        ISTJ       0.75      0.22      0.34        41\n",
            "        ISTP       0.69      0.52      0.59        67\n",
            "\n",
            "    accuracy                           0.65      1735\n",
            "   macro avg       0.63      0.38      0.42      1735\n",
            "weighted avg       0.66      0.65      0.63      1735\n",
            "\n"
          ]
        },
        {
          "name": "stderr",
          "output_type": "stream",
          "text": [
            "/usr/local/lib/python3.7/dist-packages/sklearn/metrics/_classification.py:1318: UndefinedMetricWarning: Precision and F-score are ill-defined and being set to 0.0 in labels with no predicted samples. Use `zero_division` parameter to control this behavior.\n",
            "  _warn_prf(average, modifier, msg_start, len(result))\n",
            "/usr/local/lib/python3.7/dist-packages/sklearn/metrics/_classification.py:1318: UndefinedMetricWarning: Precision and F-score are ill-defined and being set to 0.0 in labels with no predicted samples. Use `zero_division` parameter to control this behavior.\n",
            "  _warn_prf(average, modifier, msg_start, len(result))\n",
            "/usr/local/lib/python3.7/dist-packages/sklearn/metrics/_classification.py:1318: UndefinedMetricWarning: Precision and F-score are ill-defined and being set to 0.0 in labels with no predicted samples. Use `zero_division` parameter to control this behavior.\n",
            "  _warn_prf(average, modifier, msg_start, len(result))\n"
          ]
        }
      ],
      "source": [
        "from sklearn.metrics import classification_report\n",
        "personality_types=target_encoder.inverse_transform([i for i in range(16)])\n",
        "print('Test classification report of Logistic Regression\\n',classification_report(test_target,model_lr.predict(test_post),target_names=personality_types))"
      ]
    },
    {
      "cell_type": "markdown",
      "metadata": {
        "id": "0pjift9Rvj2S"
      },
      "source": [
        "###Results"
      ]
    },
    {
      "cell_type": "code",
      "execution_count": 131,
      "metadata": {
        "id": "0T1ZAqbRuxIo"
      },
      "outputs": [],
      "source": [
        "result_df=pd.DataFrame({'Model':[\"Gaussian NB\",\"Multinomial NB\",\"Random Forest\",\"XGBoost\",\"LightGBM\",\"SVM\",\"Logistic Regresssion\"],\n",
        "                        'Accuracy':[accuracy_score(test_target,pred_gnb),accuracy_score(test_target,pred_mnb),accuracy_score(test_target,pred_rfc),accuracy_score(test_target,pred_xgb),accuracy_score(test_target,pred_lgb),accuracy_score(test_target,pred_svc),accuracy_score(test_target,pred_lr)]})"
      ]
    },
    {
      "cell_type": "code",
      "execution_count": 138,
      "metadata": {
        "colab": {
          "base_uri": "https://localhost:8080/"
        },
        "id": "N-k3zwoxwcSK",
        "outputId": "d141bb3a-078b-471a-c5aa-14e55cf8545c"
      },
      "outputs": [
        {
          "name": "stdout",
          "output_type": "stream",
          "text": [
            "                  Model  Accuracy\n",
            "0           Gaussian NB  0.258790\n",
            "1        Multinomial NB  0.380403\n",
            "2         Random Forest  0.559654\n",
            "6  Logistic Regresssion  0.650144\n",
            "5                   SVM  0.653602\n",
            "4              LightGBM  0.673775\n",
            "3               XGBoost  0.675504\n"
          ]
        }
      ],
      "source": [
        "print(result_df.sort_values(by = 'Accuracy'))"
      ]
    }
  ],
  "metadata": {
    "accelerator": "GPU",
    "colab": {
      "name": "B20EE095_PRML_Bonus_Project.ipynb",
      "provenance": []
    },
    "kernelspec": {
      "display_name": "Python 3",
      "name": "python3"
    },
    "language_info": {
      "name": "python"
    }
  },
  "nbformat": 4,
  "nbformat_minor": 0
}
